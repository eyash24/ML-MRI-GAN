{
 "cells": [
  {
   "cell_type": "markdown",
   "metadata": {},
   "source": [
    "# Brain MRI EDA"
   ]
  },
  {
   "cell_type": "code",
   "execution_count": 1,
   "metadata": {},
   "outputs": [],
   "source": [
    "DATA_DIR_T2F = \"/Users/eyash.p24/Desktop/MUJ/PBL5/PBL 5/Dataset/Brats/ASNR-MICCAI-BraTS2023-GLI-Challenge-Data/TrainingData/input_data_256/t2f/train\""
   ]
  },
  {
   "cell_type": "code",
   "execution_count": 5,
   "metadata": {},
   "outputs": [],
   "source": [
    "import numpy as np\n",
    "import matplotlib.pyplot as plt\n",
    "import seaborn as sns\n",
    "from PIL import Image"
   ]
  },
  {
   "cell_type": "code",
   "execution_count": 6,
   "metadata": {},
   "outputs": [],
   "source": [
    "img_path = \"/Users/eyash.p24/Desktop/MUJ/PBL5/PBL 5/Dataset/Brats/ASNR-MICCAI-BraTS2023-GLI-Challenge-Data/TrainingData/input_data_256/t2f/train/Image/image_BraTS-GLI-00000-000-t2f.jpeg\""
   ]
  },
  {
   "cell_type": "code",
   "execution_count": 7,
   "metadata": {},
   "outputs": [
    {
     "data": {
      "text/plain": [
       "('JPEG', 'L', (180, 180))"
      ]
     },
     "execution_count": 7,
     "metadata": {},
     "output_type": "execute_result"
    }
   ],
   "source": [
    "img = Image.open(img_path)\n",
    "img.format, img.mode, img.size"
   ]
  },
  {
   "cell_type": "code",
   "execution_count": 8,
   "metadata": {},
   "outputs": [],
   "source": [
    "np_file = \"/Users/eyash.p24/Desktop/MUJ/PBL5/PBL 5/Dataset/Brats/ASNR-MICCAI-BraTS2023-GLI-Challenge-Data/TrainingData/input_data_4channels/Image/image_BraTS-GLI-00000-000.npy\""
   ]
  },
  {
   "cell_type": "code",
   "execution_count": 9,
   "metadata": {},
   "outputs": [
    {
     "data": {
      "text/plain": [
       "(4, 180, 180)"
      ]
     },
     "execution_count": 9,
     "metadata": {},
     "output_type": "execute_result"
    }
   ],
   "source": [
    "img2 = np.load(np_file)\n",
    "img2.shape"
   ]
  },
  {
   "cell_type": "code",
   "execution_count": null,
   "metadata": {},
   "outputs": [],
   "source": [
    "import nibabel as nib\n",
    "import SimpleITK as sitk\n",
    "import numpy as np\n",
    "\n",
    "# Load NIfTI image\n",
    "def load_nii_image(file_path):\n",
    "    img = nib.load(file_path)\n",
    "    return img.get_fdata(), img.affine  # Return image data and affine matrix\n",
    "\n",
    "# Perform Skull Stripping\n",
    "def skull_strip(input_image):\n",
    "    # Convert the input image to SimpleITK image\n",
    "    sitk_image = sitk.GetImageFromArray(input_image)\n",
    "    \n",
    "    # Use a simple Otsu thresholding for brain extraction\n",
    "    otsu_filter = sitk.OtsuThresholdImageFilter()\n",
    "    otsu_filter.SetInsideValue(1)\n",
    "    otsu_filter.SetOutsideValue(0)\n",
    "    binary_brain_mask = otsu_filter.Execute(sitk_image)\n",
    "    \n",
    "    # Convert the binary mask back to numpy array\n",
    "    brain_mask = sitk.GetArrayFromImage(binary_brain_mask)\n",
    "    \n",
    "    # Apply the brain mask to the original image to remove non-brain regions\n",
    "    skull_stripped_image = np.multiply(input_image, brain_mask)\n",
    "    \n",
    "    return skull_stripped_image, brain_mask\n",
    "\n",
    "# Save the Skull-Stripped Image\n",
    "def save_nii_image(output_path, skull_stripped_image, affine_matrix):\n",
    "    stripped_img = nib.Nifti1Image(skull_stripped_image, affine_matrix)\n",
    "    nib.save(stripped_img, output_path)\n",
    "    print(f\"Skull-stripped image saved to {output_path}\")\n",
    "\n",
    "# Main execution function\n",
    "def main(input_nii_path, output_nii_path):\n",
    "    # Step 1: Load the input MRI image\n",
    "    image_data, affine = load_nii_image(input_nii_path)\n",
    "    \n",
    "    # Step 2: Perform skull stripping\n",
    "    skull_stripped_data, brain_mask = skull_strip(image_data)\n",
    "    \n",
    "    # Step 3: Save the result\n",
    "    save_nii_image(output_nii_path, skull_stripped_data, affine)\n",
    "\n",
    "# Usage example\n",
    "input_file_path = 'path/to/your/brain_mri.nii'  # Input NIfTI file\n",
    "output_file_path = 'path/to/output/brain_mri_stripped.nii'  # Output NIfTI file\n",
    "main(input_file_path, output_file_path)\n"
   ]
  }
 ],
 "metadata": {
  "kernelspec": {
   "display_name": "envTorch",
   "language": "python",
   "name": "python3"
  },
  "language_info": {
   "codemirror_mode": {
    "name": "ipython",
    "version": 3
   },
   "file_extension": ".py",
   "mimetype": "text/x-python",
   "name": "python",
   "nbconvert_exporter": "python",
   "pygments_lexer": "ipython3",
   "version": "3.11.11"
  }
 },
 "nbformat": 4,
 "nbformat_minor": 2
}
